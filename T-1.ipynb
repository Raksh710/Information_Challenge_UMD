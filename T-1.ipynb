{
 "cells": [
  {
   "cell_type": "code",
   "execution_count": 1,
   "id": "b172c9f8-7fc5-4c30-8199-f619c0c182ec",
   "metadata": {},
   "outputs": [],
   "source": [
    "import numpy as np\n",
    "import pandas as pd\n",
    "import matplotlib.pyplot as plt\n",
    "import seaborn as sns"
   ]
  },
  {
   "cell_type": "code",
   "execution_count": 2,
   "id": "10feaf11-39d5-4133-bfd6-1d5d8d4d4b05",
   "metadata": {},
   "outputs": [
    {
     "name": "stderr",
     "output_type": "stream",
     "text": [
      "<timed exec>:1: DtypeWarning: Columns (13) have mixed types. Specify dtype option on import or set low_memory=False.\n"
     ]
    },
    {
     "name": "stdout",
     "output_type": "stream",
     "text": [
      "Wall time: 29.5 s\n"
     ]
    },
    {
     "data": {
      "text/html": [
       "<div>\n",
       "<style scoped>\n",
       "    .dataframe tbody tr th:only-of-type {\n",
       "        vertical-align: middle;\n",
       "    }\n",
       "\n",
       "    .dataframe tbody tr th {\n",
       "        vertical-align: top;\n",
       "    }\n",
       "\n",
       "    .dataframe thead th {\n",
       "        text-align: right;\n",
       "    }\n",
       "</style>\n",
       "<table border=\"1\" class=\"dataframe\">\n",
       "  <thead>\n",
       "    <tr style=\"text-align: right;\">\n",
       "      <th></th>\n",
       "      <th>Tag</th>\n",
       "      <th>appName</th>\n",
       "      <th>destination</th>\n",
       "      <th>destinationPayloadAsBase64</th>\n",
       "      <th>destinationPayloadAsUTF</th>\n",
       "      <th>destinationPort</th>\n",
       "      <th>destinationTCPFlagsDescription</th>\n",
       "      <th>direction</th>\n",
       "      <th>protocolName</th>\n",
       "      <th>sensorInterfaceId</th>\n",
       "      <th>...</th>\n",
       "      <th>sourcePayloadAsUTF</th>\n",
       "      <th>sourcePort</th>\n",
       "      <th>sourceTCPFlagsDescription</th>\n",
       "      <th>startDateTime</th>\n",
       "      <th>startTime</th>\n",
       "      <th>stopDateTime</th>\n",
       "      <th>totalDestinationBytes</th>\n",
       "      <th>totalDestinationPackets</th>\n",
       "      <th>totalSourceBytes</th>\n",
       "      <th>totalSourcePackets</th>\n",
       "    </tr>\n",
       "  </thead>\n",
       "  <tbody>\n",
       "    <tr>\n",
       "      <th>0</th>\n",
       "      <td>Normal</td>\n",
       "      <td>Unknown_UDP</td>\n",
       "      <td>224.0.0.251</td>\n",
       "      <td>NaN</td>\n",
       "      <td>NaN</td>\n",
       "      <td>5353.0</td>\n",
       "      <td>NaN</td>\n",
       "      <td>L2R</td>\n",
       "      <td>udp_ip</td>\n",
       "      <td>NaN</td>\n",
       "      <td>...</td>\n",
       "      <td>NaN</td>\n",
       "      <td>5353.0</td>\n",
       "      <td>NaN</td>\n",
       "      <td>2010-06-13T23:57:19</td>\n",
       "      <td>NaN</td>\n",
       "      <td>2010-06-14T00:11:23</td>\n",
       "      <td>0</td>\n",
       "      <td>0</td>\n",
       "      <td>16076</td>\n",
       "      <td>178</td>\n",
       "    </tr>\n",
       "    <tr>\n",
       "      <th>1</th>\n",
       "      <td>Normal</td>\n",
       "      <td>HTTPImageTransfer</td>\n",
       "      <td>206.217.198.186</td>\n",
       "      <td>NaN</td>\n",
       "      <td>NaN</td>\n",
       "      <td>80.0</td>\n",
       "      <td>NaN</td>\n",
       "      <td>L2R</td>\n",
       "      <td>tcp_ip</td>\n",
       "      <td>NaN</td>\n",
       "      <td>...</td>\n",
       "      <td>NaN</td>\n",
       "      <td>4435.0</td>\n",
       "      <td>F,A</td>\n",
       "      <td>2010-06-13T23:58:23</td>\n",
       "      <td>NaN</td>\n",
       "      <td>2010-06-14T00:01:24</td>\n",
       "      <td>0</td>\n",
       "      <td>0</td>\n",
       "      <td>384</td>\n",
       "      <td>6</td>\n",
       "    </tr>\n",
       "    <tr>\n",
       "      <th>2</th>\n",
       "      <td>Normal</td>\n",
       "      <td>DNS</td>\n",
       "      <td>192.168.5.122</td>\n",
       "      <td>NaN</td>\n",
       "      <td>NaN</td>\n",
       "      <td>53.0</td>\n",
       "      <td>NaN</td>\n",
       "      <td>L2L</td>\n",
       "      <td>udp_ip</td>\n",
       "      <td>NaN</td>\n",
       "      <td>...</td>\n",
       "      <td>NaN</td>\n",
       "      <td>4428.0</td>\n",
       "      <td>NaN</td>\n",
       "      <td>2010-06-13T23:58:31</td>\n",
       "      <td>NaN</td>\n",
       "      <td>2010-06-13T23:59:25</td>\n",
       "      <td>642</td>\n",
       "      <td>4</td>\n",
       "      <td>171</td>\n",
       "      <td>2</td>\n",
       "    </tr>\n",
       "    <tr>\n",
       "      <th>3</th>\n",
       "      <td>Normal</td>\n",
       "      <td>HTTPImageTransfer</td>\n",
       "      <td>219.94.203.105</td>\n",
       "      <td>NaN</td>\n",
       "      <td>NaN</td>\n",
       "      <td>80.0</td>\n",
       "      <td>NaN</td>\n",
       "      <td>L2R</td>\n",
       "      <td>tcp_ip</td>\n",
       "      <td>NaN</td>\n",
       "      <td>...</td>\n",
       "      <td>NaN</td>\n",
       "      <td>3639.0</td>\n",
       "      <td>F,A</td>\n",
       "      <td>2010-06-13T23:58:31</td>\n",
       "      <td>NaN</td>\n",
       "      <td>2010-06-14T00:00:58</td>\n",
       "      <td>0</td>\n",
       "      <td>0</td>\n",
       "      <td>384</td>\n",
       "      <td>6</td>\n",
       "    </tr>\n",
       "    <tr>\n",
       "      <th>4</th>\n",
       "      <td>Normal</td>\n",
       "      <td>HTTPImageTransfer</td>\n",
       "      <td>98.137.80.50</td>\n",
       "      <td>NaN</td>\n",
       "      <td>NaN</td>\n",
       "      <td>80.0</td>\n",
       "      <td>R</td>\n",
       "      <td>L2R</td>\n",
       "      <td>tcp_ip</td>\n",
       "      <td>NaN</td>\n",
       "      <td>...</td>\n",
       "      <td>NaN</td>\n",
       "      <td>3641.0</td>\n",
       "      <td>F,P,A</td>\n",
       "      <td>2010-06-13T23:58:31</td>\n",
       "      <td>NaN</td>\n",
       "      <td>2010-06-13T23:59:26</td>\n",
       "      <td>128</td>\n",
       "      <td>2</td>\n",
       "      <td>186</td>\n",
       "      <td>2</td>\n",
       "    </tr>\n",
       "  </tbody>\n",
       "</table>\n",
       "<p>5 rows × 23 columns</p>\n",
       "</div>"
      ],
      "text/plain": [
       "      Tag            appName      destination destinationPayloadAsBase64  \\\n",
       "0  Normal        Unknown_UDP      224.0.0.251                        NaN   \n",
       "1  Normal  HTTPImageTransfer  206.217.198.186                        NaN   \n",
       "2  Normal                DNS    192.168.5.122                        NaN   \n",
       "3  Normal  HTTPImageTransfer   219.94.203.105                        NaN   \n",
       "4  Normal  HTTPImageTransfer     98.137.80.50                        NaN   \n",
       "\n",
       "  destinationPayloadAsUTF  destinationPort destinationTCPFlagsDescription  \\\n",
       "0                     NaN           5353.0                            NaN   \n",
       "1                     NaN             80.0                            NaN   \n",
       "2                     NaN             53.0                            NaN   \n",
       "3                     NaN             80.0                            NaN   \n",
       "4                     NaN             80.0                              R   \n",
       "\n",
       "  direction protocolName  sensorInterfaceId  ... sourcePayloadAsUTF  \\\n",
       "0       L2R       udp_ip                NaN  ...                NaN   \n",
       "1       L2R       tcp_ip                NaN  ...                NaN   \n",
       "2       L2L       udp_ip                NaN  ...                NaN   \n",
       "3       L2R       tcp_ip                NaN  ...                NaN   \n",
       "4       L2R       tcp_ip                NaN  ...                NaN   \n",
       "\n",
       "  sourcePort sourceTCPFlagsDescription        startDateTime  startTime  \\\n",
       "0     5353.0                       NaN  2010-06-13T23:57:19        NaN   \n",
       "1     4435.0                       F,A  2010-06-13T23:58:23        NaN   \n",
       "2     4428.0                       NaN  2010-06-13T23:58:31        NaN   \n",
       "3     3639.0                       F,A  2010-06-13T23:58:31        NaN   \n",
       "4     3641.0                     F,P,A  2010-06-13T23:58:31        NaN   \n",
       "\n",
       "          stopDateTime totalDestinationBytes  totalDestinationPackets  \\\n",
       "0  2010-06-14T00:11:23                     0                        0   \n",
       "1  2010-06-14T00:01:24                     0                        0   \n",
       "2  2010-06-13T23:59:25                   642                        4   \n",
       "3  2010-06-14T00:00:58                     0                        0   \n",
       "4  2010-06-13T23:59:26                   128                        2   \n",
       "\n",
       "  totalSourceBytes  totalSourcePackets  \n",
       "0            16076                 178  \n",
       "1              384                   6  \n",
       "2              171                   2  \n",
       "3              384                   6  \n",
       "4              186                   2  \n",
       "\n",
       "[5 rows x 23 columns]"
      ]
     },
     "execution_count": 2,
     "metadata": {},
     "output_type": "execute_result"
    }
   ],
   "source": [
    "%%time\n",
    "df = pd.read_csv(\"iscxIDS2012.csv\")\n",
    "df.head()"
   ]
  },
  {
   "cell_type": "code",
   "execution_count": 3,
   "id": "bedcdd62-dbe1-4b02-a3eb-356321ed7062",
   "metadata": {},
   "outputs": [
    {
     "name": "stdout",
     "output_type": "stream",
     "text": [
      "<class 'pandas.core.frame.DataFrame'>\n",
      "RangeIndex: 2028054 entries, 0 to 2028053\n",
      "Data columns (total 23 columns):\n",
      " #   Column                          Dtype  \n",
      "---  ------                          -----  \n",
      " 0   Tag                             object \n",
      " 1   appName                         object \n",
      " 2   destination                     object \n",
      " 3   destinationPayloadAsBase64      object \n",
      " 4   destinationPayloadAsUTF         object \n",
      " 5   destinationPort                 float64\n",
      " 6   destinationTCPFlagsDescription  object \n",
      " 7   direction                       object \n",
      " 8   protocolName                    object \n",
      " 9   sensorInterfaceId               float64\n",
      " 10  source                          object \n",
      " 11  sourceFile                      object \n",
      " 12  sourcePayloadAsBase64           object \n",
      " 13  sourcePayloadAsUTF              object \n",
      " 14  sourcePort                      float64\n",
      " 15  sourceTCPFlagsDescription       object \n",
      " 16  startDateTime                   object \n",
      " 17  startTime                       float64\n",
      " 18  stopDateTime                    object \n",
      " 19  totalDestinationBytes           int64  \n",
      " 20  totalDestinationPackets         int64  \n",
      " 21  totalSourceBytes                int64  \n",
      " 22  totalSourcePackets              int64  \n",
      "dtypes: float64(4), int64(4), object(15)\n",
      "memory usage: 355.9+ MB\n"
     ]
    }
   ],
   "source": [
    "df.info()"
   ]
  },
  {
   "cell_type": "code",
   "execution_count": 4,
   "id": "861c4843-cca7-428a-b468-b5c9202a2040",
   "metadata": {},
   "outputs": [
    {
     "data": {
      "text/plain": [
       "Tag                                0.000049\n",
       "appName                            0.000000\n",
       "destination                        0.000049\n",
       "destinationPayloadAsBase64        57.414201\n",
       "destinationPayloadAsUTF           57.416962\n",
       "destinationPort                    0.000049\n",
       "destinationTCPFlagsDescription    24.024804\n",
       "direction                          0.000000\n",
       "protocolName                       0.000049\n",
       "sensorInterfaceId                 90.530775\n",
       "source                             0.000049\n",
       "sourceFile                         0.000049\n",
       "sourcePayloadAsBase64             52.967623\n",
       "sourcePayloadAsUTF                57.149169\n",
       "sourcePort                         0.000049\n",
       "sourceTCPFlagsDescription         20.982577\n",
       "startDateTime                      0.000049\n",
       "startTime                         90.978149\n",
       "stopDateTime                       0.000049\n",
       "totalDestinationBytes              0.000000\n",
       "totalDestinationPackets            0.000000\n",
       "totalSourceBytes                   0.000000\n",
       "totalSourcePackets                 0.000000\n",
       "dtype: float64"
      ]
     },
     "execution_count": 4,
     "metadata": {},
     "output_type": "execute_result"
    }
   ],
   "source": [
    "100 * df.isna().sum()/len(df)"
   ]
  },
  {
   "cell_type": "code",
   "execution_count": 5,
   "id": "59cfc059-6053-4e14-8433-0fbce7b11743",
   "metadata": {},
   "outputs": [
    {
     "data": {
      "text/plain": [
       "Normal    96.602112\n",
       "Attack     3.397839\n",
       "Name: Tag, dtype: float64"
      ]
     },
     "execution_count": 5,
     "metadata": {},
     "output_type": "execute_result"
    }
   ],
   "source": [
    "100 * df['Tag'].value_counts()/len(df)"
   ]
  },
  {
   "cell_type": "code",
   "execution_count": 6,
   "id": "c6a49a0d-b738-4403-8c53-5098d6e65168",
   "metadata": {},
   "outputs": [],
   "source": [
    "df.drop(['startTime','sensorInterfaceId'],axis=1,inplace=True)"
   ]
  },
  {
   "cell_type": "raw",
   "id": "c843620c-91f6-4fe4-93de-920b4b4a82a4",
   "metadata": {},
   "source": [
    "columns with only 1 missing value\n",
    "Tag #, destination#, destinationPort#, protocolName#, source#, sourceFile, sourcePort#, startDateTime#, stopDateTime#"
   ]
  },
  {
   "cell_type": "code",
   "execution_count": 7,
   "id": "317b4696-d059-41f0-8599-919df47141c0",
   "metadata": {},
   "outputs": [
    {
     "data": {
      "text/html": [
       "<div>\n",
       "<style scoped>\n",
       "    .dataframe tbody tr th:only-of-type {\n",
       "        vertical-align: middle;\n",
       "    }\n",
       "\n",
       "    .dataframe tbody tr th {\n",
       "        vertical-align: top;\n",
       "    }\n",
       "\n",
       "    .dataframe thead th {\n",
       "        text-align: right;\n",
       "    }\n",
       "</style>\n",
       "<table border=\"1\" class=\"dataframe\">\n",
       "  <thead>\n",
       "    <tr style=\"text-align: right;\">\n",
       "      <th></th>\n",
       "      <th>Tag</th>\n",
       "      <th>appName</th>\n",
       "      <th>destination</th>\n",
       "      <th>destinationPayloadAsBase64</th>\n",
       "      <th>destinationPayloadAsUTF</th>\n",
       "      <th>destinationPort</th>\n",
       "      <th>destinationTCPFlagsDescription</th>\n",
       "      <th>direction</th>\n",
       "      <th>protocolName</th>\n",
       "      <th>source</th>\n",
       "      <th>...</th>\n",
       "      <th>sourcePayloadAsBase64</th>\n",
       "      <th>sourcePayloadAsUTF</th>\n",
       "      <th>sourcePort</th>\n",
       "      <th>sourceTCPFlagsDescription</th>\n",
       "      <th>startDateTime</th>\n",
       "      <th>stopDateTime</th>\n",
       "      <th>totalDestinationBytes</th>\n",
       "      <th>totalDestinationPackets</th>\n",
       "      <th>totalSourceBytes</th>\n",
       "      <th>totalSourcePackets</th>\n",
       "    </tr>\n",
       "  </thead>\n",
       "  <tbody>\n",
       "    <tr>\n",
       "      <th>1357445</th>\n",
       "      <td>NaN</td>\n",
       "      <td>HTTPWeb</td>\n",
       "      <td>NaN</td>\n",
       "      <td>SFRUUC8xLjAgMjAwIE9LDQpTZXJ2ZXI6IFpldXMvNC4zDQ...</td>\n",
       "      <td>HTTP/1.0 200 OKServer: Zeus/4.3Date: Thu, 17 J...</td>\n",
       "      <td>NaN</td>\n",
       "      <td>NaN</td>\n",
       "      <td>TestbedThuJun17-1Flows.xml</td>\n",
       "      <td>NaN</td>\n",
       "      <td>NaN</td>\n",
       "      <td>...</td>\n",
       "      <td>R0VUIC9wdXJwb3NlL3N1cHBvcnQuc2h0bWwgSFRUUC8xLj...</td>\n",
       "      <td>GET /purpose/support.shtml HTTP/1.1Host: www.k...</td>\n",
       "      <td>NaN</td>\n",
       "      <td>NaN</td>\n",
       "      <td>NaN</td>\n",
       "      <td>NaN</td>\n",
       "      <td>15694</td>\n",
       "      <td>15</td>\n",
       "      <td>786</td>\n",
       "      <td>11</td>\n",
       "    </tr>\n",
       "  </tbody>\n",
       "</table>\n",
       "<p>1 rows × 21 columns</p>\n",
       "</div>"
      ],
      "text/plain": [
       "         Tag  appName destination  \\\n",
       "1357445  NaN  HTTPWeb         NaN   \n",
       "\n",
       "                                destinationPayloadAsBase64  \\\n",
       "1357445  SFRUUC8xLjAgMjAwIE9LDQpTZXJ2ZXI6IFpldXMvNC4zDQ...   \n",
       "\n",
       "                                   destinationPayloadAsUTF  destinationPort  \\\n",
       "1357445  HTTP/1.0 200 OKServer: Zeus/4.3Date: Thu, 17 J...              NaN   \n",
       "\n",
       "        destinationTCPFlagsDescription                   direction  \\\n",
       "1357445                            NaN  TestbedThuJun17-1Flows.xml   \n",
       "\n",
       "        protocolName source  ...  \\\n",
       "1357445          NaN    NaN  ...   \n",
       "\n",
       "                                     sourcePayloadAsBase64  \\\n",
       "1357445  R0VUIC9wdXJwb3NlL3N1cHBvcnQuc2h0bWwgSFRUUC8xLj...   \n",
       "\n",
       "                                        sourcePayloadAsUTF sourcePort  \\\n",
       "1357445  GET /purpose/support.shtml HTTP/1.1Host: www.k...        NaN   \n",
       "\n",
       "         sourceTCPFlagsDescription startDateTime stopDateTime  \\\n",
       "1357445                        NaN           NaN          NaN   \n",
       "\n",
       "        totalDestinationBytes  totalDestinationPackets  totalSourceBytes  \\\n",
       "1357445                 15694                       15               786   \n",
       "\n",
       "         totalSourcePackets  \n",
       "1357445                  11  \n",
       "\n",
       "[1 rows x 21 columns]"
      ]
     },
     "execution_count": 7,
     "metadata": {},
     "output_type": "execute_result"
    }
   ],
   "source": [
    "df[(df['Tag']!='Normal') & (df['Tag']!='Attack')]"
   ]
  },
  {
   "cell_type": "code",
   "execution_count": 8,
   "id": "9f4ecfd6-1709-40ff-871f-efcee1af4c91",
   "metadata": {},
   "outputs": [],
   "source": [
    "df.drop(df.index[1357445],inplace=True)"
   ]
  },
  {
   "cell_type": "code",
   "execution_count": 9,
   "id": "a128d26f-88ed-43bb-8564-55d4efecb15c",
   "metadata": {},
   "outputs": [
    {
     "data": {
      "text/plain": [
       "Normal    96.60216\n",
       "Attack     3.39784\n",
       "Name: Tag, dtype: float64"
      ]
     },
     "execution_count": 9,
     "metadata": {},
     "output_type": "execute_result"
    }
   ],
   "source": [
    "100 * df['Tag'].value_counts()/len(df)"
   ]
  },
  {
   "cell_type": "code",
   "execution_count": 10,
   "id": "f376249c-fc90-4d9d-bf26-7bf966b70e74",
   "metadata": {},
   "outputs": [
    {
     "data": {
      "text/plain": [
       "Tag                                0.000000\n",
       "appName                            0.000000\n",
       "destination                        0.000000\n",
       "destinationPayloadAsBase64        57.414229\n",
       "destinationPayloadAsUTF           57.416991\n",
       "destinationPort                    0.000000\n",
       "destinationTCPFlagsDescription    24.024767\n",
       "direction                          0.000000\n",
       "protocolName                       0.000000\n",
       "source                             0.000000\n",
       "sourceFile                         0.000000\n",
       "sourcePayloadAsBase64             52.967649\n",
       "sourcePayloadAsUTF                57.149197\n",
       "sourcePort                         0.000000\n",
       "sourceTCPFlagsDescription         20.982538\n",
       "startDateTime                      0.000000\n",
       "stopDateTime                       0.000000\n",
       "totalDestinationBytes              0.000000\n",
       "totalDestinationPackets            0.000000\n",
       "totalSourceBytes                   0.000000\n",
       "totalSourcePackets                 0.000000\n",
       "dtype: float64"
      ]
     },
     "execution_count": 10,
     "metadata": {},
     "output_type": "execute_result"
    }
   ],
   "source": [
    "100 * df.isna().sum()/len(df)"
   ]
  },
  {
   "cell_type": "code",
   "execution_count": 11,
   "id": "06ce43ca-9a8f-4bea-9454-cf8700a0b192",
   "metadata": {},
   "outputs": [
    {
     "name": "stdout",
     "output_type": "stream",
     "text": [
      "Tag --> 2\n",
      "appName --> 107\n",
      "destination --> 34402\n",
      "destinationPayloadAsBase64 --> 670961\n",
      "destinationPayloadAsUTF --> 654787\n",
      "destinationTCPFlagsDescription --> 27\n",
      "direction --> 4\n",
      "protocolName --> 6\n",
      "source --> 2476\n",
      "sourceFile --> 12\n",
      "sourcePayloadAsBase64 --> 519865\n",
      "sourcePayloadAsUTF --> 350521\n",
      "sourceTCPFlagsDescription --> 23\n",
      "startDateTime --> 310247\n",
      "stopDateTime --> 335221\n"
     ]
    }
   ],
   "source": [
    "for i in df.select_dtypes(include='object').columns:\n",
    "    print(f\"{i} --> {df[i].nunique()}\")"
   ]
  },
  {
   "cell_type": "markdown",
   "id": "64a878dc-7363-401f-978a-0a6900b72016",
   "metadata": {},
   "source": [
    "#### Let's focus first on sourceTCPFlagsDescription as it has the least number of nan values in all the columns with missing values"
   ]
  },
  {
   "cell_type": "code",
   "execution_count": 12,
   "id": "206c36c7-a5d3-4872-b956-8af8802d8ee8",
   "metadata": {},
   "outputs": [
    {
     "data": {
      "text/plain": [
       "array([nan, 'F,A', 'F,P,A', 'R', 'R,P,A', 'S,R,P,A', 'F,S,P,A', 'S,P,A',\n",
       "       'S', 'A', 'P,A', 'F,R,A', 'R,A', 'F,S,R,P,A', 'F,S,A', 'F,R,P,A',\n",
       "       'S,R', 'S,A', 'S,R,A', 'F,S,R,A', 'F,P,U', 'S,R,Illegal7,Illegal8',\n",
       "       'F,S,R,P,U', 'F,S,P,U'], dtype=object)"
      ]
     },
     "execution_count": 12,
     "metadata": {},
     "output_type": "execute_result"
    }
   ],
   "source": [
    "df['sourceTCPFlagsDescription'].unique()"
   ]
  },
  {
   "cell_type": "code",
   "execution_count": 13,
   "id": "5bd6d65f-c0c1-47ad-9d2c-9ecf319ec6c3",
   "metadata": {},
   "outputs": [],
   "source": [
    "def target_enc(x):\n",
    "    if x=='Normal':\n",
    "        return 0\n",
    "    else:\n",
    "        return 1"
   ]
  },
  {
   "cell_type": "code",
   "execution_count": 14,
   "id": "1669b304-58b6-4f5d-818a-aa3bea7eb002",
   "metadata": {},
   "outputs": [],
   "source": [
    "df['Tag'] = df['Tag'].apply(target_enc)"
   ]
  },
  {
   "cell_type": "code",
   "execution_count": 15,
   "id": "1a2da86a-96fe-4cd1-8a10-efe816d3e2cc",
   "metadata": {},
   "outputs": [
    {
     "data": {
      "text/plain": [
       "0    1959143\n",
       "1      68910\n",
       "Name: Tag, dtype: int64"
      ]
     },
     "execution_count": 15,
     "metadata": {},
     "output_type": "execute_result"
    }
   ],
   "source": [
    "df['Tag'].value_counts()"
   ]
  },
  {
   "cell_type": "code",
   "execution_count": 16,
   "id": "1a1ff083-7d79-4600-a6b7-07b9a1b6464d",
   "metadata": {},
   "outputs": [
    {
     "data": {
      "text/plain": [
       "<AxesSubplot:xlabel='sourceTCPFlagsDescription', ylabel='Tag'>"
      ]
     },
     "execution_count": 16,
     "metadata": {},
     "output_type": "execute_result"
    },
    {
     "data": {
      "image/png": "[encoded data removed]",
      "text/plain": [
       "<Figure size 2160x720 with 1 Axes>"
      ]
     },
     "metadata": {
      "needs_background": "light"
     },
     "output_type": "display_data"
    }
   ],
   "source": [
    "plt.figure(figsize=(30,10))\n",
    "sns.barplot(x='sourceTCPFlagsDescription',y='Tag',data=df)"
   ]
  },
  {
   "cell_type": "code",
   "execution_count": 17,
   "id": "1874397a-78b8-4b54-bc87-5b5b7c1a28cd",
   "metadata": {},
   "outputs": [
    {
     "data": {
      "text/plain": [
       "sourceTCPFlagsDescription\n",
       "F,S,P,A                  44332\n",
       "S                        20188\n",
       "S,A                       1625\n",
       "A                          788\n",
       "S,P,A                      469\n",
       "S,R                        321\n",
       "P,A                        217\n",
       "F,A                        164\n",
       "F,P,A                      106\n",
       "F,S,R,P,A                   99\n",
       "S,R,P,A                     95\n",
       "R                           47\n",
       "F,S,A                       24\n",
       "S,R,Illegal7,Illegal8       18\n",
       "F,R,A                       14\n",
       "F,P,U                       12\n",
       "F,S,R,P,U                   10\n",
       "F,S,R,A                      7\n",
       "S,R,A                        4\n",
       "F,S,P,U                      2\n",
       "R,A                          2\n",
       "R,P,A                        0\n",
       "F,R,P,A                      0\n",
       "Name: Tag, dtype: int64"
      ]
     },
     "execution_count": 17,
     "metadata": {},
     "output_type": "execute_result"
    }
   ],
   "source": [
    "df.groupby('sourceTCPFlagsDescription').sum()['Tag'].sort_values(ascending=False)"
   ]
  },
  {
   "cell_type": "markdown",
   "id": "00dabfc9-6910-404e-b8ef-2c91fdec1c6f",
   "metadata": {},
   "source": [
    "#### The higher the value in above list, the more ones (Tag = Attack) they have. 'R,P,A' and 'F,R,P,A' have no Attack url"
   ]
  },
  {
   "cell_type": "code",
   "execution_count": 18,
   "id": "28ce59f9-3c9f-4d95-bf0a-f3b7ed82520a",
   "metadata": {},
   "outputs": [
    {
     "data": {
      "text/plain": [
       "F,S,P,A                  55.887346\n",
       "S,P,A                     8.954007\n",
       "F,A                       6.435631\n",
       "S                         2.049601\n",
       "S,R,P,A                   1.360517\n",
       "F,P,A                     1.247206\n",
       "P,A                       0.819801\n",
       "A                         0.748748\n",
       "F,S,A                     0.537757\n",
       "F,S,R,P,A                 0.440718\n",
       "F,R,A                     0.229481\n",
       "S,A                       0.167106\n",
       "R,A                       0.052267\n",
       "R                         0.044180\n",
       "S,R                       0.027070\n",
       "F,R,P,A                   0.006213\n",
       "R,P,A                     0.005769\n",
       "S,R,A                     0.001282\n",
       "S,R,Illegal7,Illegal8     0.000888\n",
       "F,S,R,A                   0.000690\n",
       "F,P,U                     0.000592\n",
       "F,S,R,P,U                 0.000493\n",
       "F,S,P,U                   0.000099\n",
       "Name: sourceTCPFlagsDescription, dtype: float64"
      ]
     },
     "execution_count": 18,
     "metadata": {},
     "output_type": "execute_result"
    }
   ],
   "source": [
    "100 * df['sourceTCPFlagsDescription'].value_counts().sort_values(ascending=False)/len(df)"
   ]
  },
  {
   "cell_type": "markdown",
   "id": "1b13eb79-dde9-489a-b9d9-15a64073ac44",
   "metadata": {},
   "source": [
    "#### Let's use chi square test for this"
   ]
  },
  {
   "cell_type": "code",
   "execution_count": 19,
   "id": "b3ea3332-e393-489e-933c-cfaf622d50de",
   "metadata": {},
   "outputs": [],
   "source": [
    "from sklearn.feature_selection import SelectKBest,chi2"
   ]
  },
  {
   "cell_type": "code",
   "execution_count": 20,
   "id": "69d5a5aa-7ee5-4419-a1f1-6c4f6020d5a5",
   "metadata": {},
   "outputs": [],
   "source": [
    "bestfeatures = SelectKBest(score_func=chi2,k=5)\n",
    "fit = bestfeatures.fit(df.select_dtypes(exclude='object').iloc[:1602516,:],df['sourceTCPFlagsDescription'].dropna())"
   ]
  },
  {
   "cell_type": "code",
   "execution_count": 21,
   "id": "046ff552-c7be-4ef0-a26a-01c4b4c3ffe2",
   "metadata": {},
   "outputs": [],
   "source": [
    "df_scores_1 = pd.DataFrame(fit.scores_)\n",
    "df_columns_1 = pd.DataFrame(df.select_dtypes(exclude='object').iloc[:1602516,:].columns)"
   ]
  },
  {
   "cell_type": "code",
   "execution_count": 22,
   "id": "0444ac97-4b69-4b33-b051-2126a90401d0",
   "metadata": {},
   "outputs": [],
   "source": [
    "featureScores_1 = pd.concat([df_columns_1,df_scores_1],axis=1)\n",
    "featureScores_1.columns = [\"Specs\",\"Scores\"]"
   ]
  },
  {
   "cell_type": "code",
   "execution_count": 23,
   "id": "ac229de0-956c-4fc1-902f-97df25f0d04e",
   "metadata": {},
   "outputs": [
    {
     "data": {
      "text/html": [
       "<div>\n",
       "<style scoped>\n",
       "    .dataframe tbody tr th:only-of-type {\n",
       "        vertical-align: middle;\n",
       "    }\n",
       "\n",
       "    .dataframe tbody tr th {\n",
       "        vertical-align: top;\n",
       "    }\n",
       "\n",
       "    .dataframe thead th {\n",
       "        text-align: right;\n",
       "    }\n",
       "</style>\n",
       "<table border=\"1\" class=\"dataframe\">\n",
       "  <thead>\n",
       "    <tr style=\"text-align: right;\">\n",
       "      <th></th>\n",
       "      <th>Specs</th>\n",
       "      <th>Scores</th>\n",
       "    </tr>\n",
       "  </thead>\n",
       "  <tbody>\n",
       "    <tr>\n",
       "      <th>5</th>\n",
       "      <td>totalSourceBytes</td>\n",
       "      <td>8.755824e+08</td>\n",
       "    </tr>\n",
       "    <tr>\n",
       "      <th>1</th>\n",
       "      <td>destinationPort</td>\n",
       "      <td>1.948940e+08</td>\n",
       "    </tr>\n",
       "    <tr>\n",
       "      <th>3</th>\n",
       "      <td>totalDestinationBytes</td>\n",
       "      <td>1.052411e+08</td>\n",
       "    </tr>\n",
       "    <tr>\n",
       "      <th>2</th>\n",
       "      <td>sourcePort</td>\n",
       "      <td>4.727091e+07</td>\n",
       "    </tr>\n",
       "    <tr>\n",
       "      <th>4</th>\n",
       "      <td>totalDestinationPackets</td>\n",
       "      <td>1.452930e+05</td>\n",
       "    </tr>\n",
       "    <tr>\n",
       "      <th>6</th>\n",
       "      <td>totalSourcePackets</td>\n",
       "      <td>1.029839e+05</td>\n",
       "    </tr>\n",
       "    <tr>\n",
       "      <th>0</th>\n",
       "      <td>Tag</td>\n",
       "      <td>1.528972e+03</td>\n",
       "    </tr>\n",
       "  </tbody>\n",
       "</table>\n",
       "</div>"
      ],
      "text/plain": [
       "                     Specs        Scores\n",
       "5         totalSourceBytes  8.755824e+08\n",
       "1          destinationPort  1.948940e+08\n",
       "3    totalDestinationBytes  1.052411e+08\n",
       "2               sourcePort  4.727091e+07\n",
       "4  totalDestinationPackets  1.452930e+05\n",
       "6       totalSourcePackets  1.029839e+05\n",
       "0                      Tag  1.528972e+03"
      ]
     },
     "execution_count": 23,
     "metadata": {},
     "output_type": "execute_result"
    }
   ],
   "source": [
    "featureScores_1.sort_values(by='Scores',ascending=False)"
   ]
  },
  {
   "cell_type": "markdown",
   "id": "af72b09a-2baf-4320-b16a-758a670975dc",
   "metadata": {},
   "source": [
    "### Feature encoding BEGINS"
   ]
  },
  {
   "cell_type": "code",
   "execution_count": 24,
   "id": "d2219b63-f64c-4232-9a65-51c0b2136fd7",
   "metadata": {},
   "outputs": [],
   "source": [
    "df_obj = df.select_dtypes(include='object')"
   ]
  },
  {
   "cell_type": "code",
   "execution_count": 25,
   "id": "fa807b6d-fe17-47c9-beaf-4dfa5ee61441",
   "metadata": {},
   "outputs": [
    {
     "data": {
      "text/plain": [
       "array(['L2R', 'L2L', 'R2R', 'R2L'], dtype=object)"
      ]
     },
     "execution_count": 25,
     "metadata": {},
     "output_type": "execute_result"
    }
   ],
   "source": [
    "df_obj['direction'].unique()"
   ]
  },
  {
   "cell_type": "code",
   "execution_count": 26,
   "id": "ab18d59e-1055-44ea-8a18-a3dec5c9d2ec",
   "metadata": {},
   "outputs": [
    {
     "data": {
      "text/html": [
       "<div>\n",
       "<style scoped>\n",
       "    .dataframe tbody tr th:only-of-type {\n",
       "        vertical-align: middle;\n",
       "    }\n",
       "\n",
       "    .dataframe tbody tr th {\n",
       "        vertical-align: top;\n",
       "    }\n",
       "\n",
       "    .dataframe thead th {\n",
       "        text-align: right;\n",
       "    }\n",
       "</style>\n",
       "<table border=\"1\" class=\"dataframe\">\n",
       "  <thead>\n",
       "    <tr style=\"text-align: right;\">\n",
       "      <th></th>\n",
       "      <th>appName</th>\n",
       "      <th>destination</th>\n",
       "      <th>destinationPayloadAsBase64</th>\n",
       "      <th>destinationPayloadAsUTF</th>\n",
       "      <th>destinationTCPFlagsDescription</th>\n",
       "      <th>direction</th>\n",
       "      <th>protocolName</th>\n",
       "      <th>source</th>\n",
       "      <th>sourceFile</th>\n",
       "      <th>sourcePayloadAsBase64</th>\n",
       "      <th>sourcePayloadAsUTF</th>\n",
       "      <th>sourceTCPFlagsDescription</th>\n",
       "      <th>startDateTime</th>\n",
       "      <th>stopDateTime</th>\n",
       "    </tr>\n",
       "  </thead>\n",
       "  <tbody>\n",
       "    <tr>\n",
       "      <th>0</th>\n",
       "      <td>Unknown_UDP</td>\n",
       "      <td>224.0.0.251</td>\n",
       "      <td>NaN</td>\n",
       "      <td>NaN</td>\n",
       "      <td>NaN</td>\n",
       "      <td>L2R</td>\n",
       "      <td>udp_ip</td>\n",
       "      <td>192.168.5.122</td>\n",
       "      <td>TestbedMonJun14Flows.xml</td>\n",
       "      <td>NaN</td>\n",
       "      <td>NaN</td>\n",
       "      <td>NaN</td>\n",
       "      <td>2010-06-13T23:57:19</td>\n",
       "      <td>2010-06-14T00:11:23</td>\n",
       "    </tr>\n",
       "    <tr>\n",
       "      <th>1</th>\n",
       "      <td>HTTPImageTransfer</td>\n",
       "      <td>206.217.198.186</td>\n",
       "      <td>NaN</td>\n",
       "      <td>NaN</td>\n",
       "      <td>NaN</td>\n",
       "      <td>L2R</td>\n",
       "      <td>tcp_ip</td>\n",
       "      <td>192.168.2.111</td>\n",
       "      <td>TestbedMonJun14Flows.xml</td>\n",
       "      <td>NaN</td>\n",
       "      <td>NaN</td>\n",
       "      <td>F,A</td>\n",
       "      <td>2010-06-13T23:58:23</td>\n",
       "      <td>2010-06-14T00:01:24</td>\n",
       "    </tr>\n",
       "    <tr>\n",
       "      <th>2</th>\n",
       "      <td>DNS</td>\n",
       "      <td>192.168.5.122</td>\n",
       "      <td>NaN</td>\n",
       "      <td>NaN</td>\n",
       "      <td>NaN</td>\n",
       "      <td>L2L</td>\n",
       "      <td>udp_ip</td>\n",
       "      <td>192.168.4.119</td>\n",
       "      <td>TestbedMonJun14Flows.xml</td>\n",
       "      <td>NaN</td>\n",
       "      <td>NaN</td>\n",
       "      <td>NaN</td>\n",
       "      <td>2010-06-13T23:58:31</td>\n",
       "      <td>2010-06-13T23:59:25</td>\n",
       "    </tr>\n",
       "    <tr>\n",
       "      <th>3</th>\n",
       "      <td>HTTPImageTransfer</td>\n",
       "      <td>219.94.203.105</td>\n",
       "      <td>NaN</td>\n",
       "      <td>NaN</td>\n",
       "      <td>NaN</td>\n",
       "      <td>L2R</td>\n",
       "      <td>tcp_ip</td>\n",
       "      <td>192.168.4.119</td>\n",
       "      <td>TestbedMonJun14Flows.xml</td>\n",
       "      <td>NaN</td>\n",
       "      <td>NaN</td>\n",
       "      <td>F,A</td>\n",
       "      <td>2010-06-13T23:58:31</td>\n",
       "      <td>2010-06-14T00:00:58</td>\n",
       "    </tr>\n",
       "    <tr>\n",
       "      <th>4</th>\n",
       "      <td>HTTPImageTransfer</td>\n",
       "      <td>98.137.80.50</td>\n",
       "      <td>NaN</td>\n",
       "      <td>NaN</td>\n",
       "      <td>R</td>\n",
       "      <td>L2R</td>\n",
       "      <td>tcp_ip</td>\n",
       "      <td>192.168.4.119</td>\n",
       "      <td>TestbedMonJun14Flows.xml</td>\n",
       "      <td>NaN</td>\n",
       "      <td>NaN</td>\n",
       "      <td>F,P,A</td>\n",
       "      <td>2010-06-13T23:58:31</td>\n",
       "      <td>2010-06-13T23:59:26</td>\n",
       "    </tr>\n",
       "  </tbody>\n",
       "</table>\n",
       "</div>"
      ],
      "text/plain": [
       "             appName      destination destinationPayloadAsBase64  \\\n",
       "0        Unknown_UDP      224.0.0.251                        NaN   \n",
       "1  HTTPImageTransfer  206.217.198.186                        NaN   \n",
       "2                DNS    192.168.5.122                        NaN   \n",
       "3  HTTPImageTransfer   219.94.203.105                        NaN   \n",
       "4  HTTPImageTransfer     98.137.80.50                        NaN   \n",
       "\n",
       "  destinationPayloadAsUTF destinationTCPFlagsDescription direction  \\\n",
       "0                     NaN                            NaN       L2R   \n",
       "1                     NaN                            NaN       L2R   \n",
       "2                     NaN                            NaN       L2L   \n",
       "3                     NaN                            NaN       L2R   \n",
       "4                     NaN                              R       L2R   \n",
       "\n",
       "  protocolName         source                sourceFile sourcePayloadAsBase64  \\\n",
       "0       udp_ip  192.168.5.122  TestbedMonJun14Flows.xml                   NaN   \n",
       "1       tcp_ip  192.168.2.111  TestbedMonJun14Flows.xml                   NaN   \n",
       "2       udp_ip  192.168.4.119  TestbedMonJun14Flows.xml                   NaN   \n",
       "3       tcp_ip  192.168.4.119  TestbedMonJun14Flows.xml                   NaN   \n",
       "4       tcp_ip  192.168.4.119  TestbedMonJun14Flows.xml                   NaN   \n",
       "\n",
       "  sourcePayloadAsUTF sourceTCPFlagsDescription        startDateTime  \\\n",
       "0                NaN                       NaN  2010-06-13T23:57:19   \n",
       "1                NaN                       F,A  2010-06-13T23:58:23   \n",
       "2                NaN                       NaN  2010-06-13T23:58:31   \n",
       "3                NaN                       F,A  2010-06-13T23:58:31   \n",
       "4                NaN                     F,P,A  2010-06-13T23:58:31   \n",
       "\n",
       "          stopDateTime  \n",
       "0  2010-06-14T00:11:23  \n",
       "1  2010-06-14T00:01:24  \n",
       "2  2010-06-13T23:59:25  \n",
       "3  2010-06-14T00:00:58  \n",
       "4  2010-06-13T23:59:26  "
      ]
     },
     "execution_count": 26,
     "metadata": {},
     "output_type": "execute_result"
    }
   ],
   "source": [
    "df_obj.head()"
   ]
  },
  {
   "cell_type": "code",
   "execution_count": 27,
   "id": "3f3307da-316a-48eb-8064-0d334d21c468",
   "metadata": {},
   "outputs": [
    {
     "data": {
      "text/plain": [
       "appName                                 0\n",
       "destination                             0\n",
       "destinationPayloadAsBase64        1164391\n",
       "destinationPayloadAsUTF           1164447\n",
       "destinationTCPFlagsDescription     487235\n",
       "direction                               0\n",
       "protocolName                            0\n",
       "source                                  0\n",
       "sourceFile                              0\n",
       "sourcePayloadAsBase64             1074212\n",
       "sourcePayloadAsUTF                1159016\n",
       "sourceTCPFlagsDescription          425537\n",
       "startDateTime                           0\n",
       "stopDateTime                            0\n",
       "dtype: int64"
      ]
     },
     "execution_count": 27,
     "metadata": {},
     "output_type": "execute_result"
    }
   ],
   "source": [
    "df_obj.isna().sum()"
   ]
  },
  {
   "cell_type": "code",
   "execution_count": 28,
   "id": "5c537bc4-d1b3-4efa-bf3f-ec6ed4e65948",
   "metadata": {},
   "outputs": [
    {
     "name": "stdout",
     "output_type": "stream",
     "text": [
      "appName --> 107\n",
      "destination --> 34402\n",
      "destinationPayloadAsBase64 --> 670961\n",
      "destinationPayloadAsUTF --> 654787\n",
      "destinationTCPFlagsDescription --> 27\n",
      "direction --> 4\n",
      "protocolName --> 6\n",
      "source --> 2476\n",
      "sourceFile --> 12\n",
      "sourcePayloadAsBase64 --> 519865\n",
      "sourcePayloadAsUTF --> 350521\n",
      "sourceTCPFlagsDescription --> 23\n",
      "startDateTime --> 310247\n",
      "stopDateTime --> 335221\n"
     ]
    }
   ],
   "source": [
    "for i in df_obj.columns:\n",
    "    print(f\"{i} --> {df[i].nunique()}\")"
   ]
  },
  {
   "cell_type": "code",
   "execution_count": 29,
   "id": "c2de87c8-ebb5-4b87-8458-a885feca7751",
   "metadata": {},
   "outputs": [
    {
     "data": {
      "text/plain": [
       "HTTPWeb               721502\n",
       "HTTPImageTransfer     707631\n",
       "DNS                   309359\n",
       "Unknown_UDP            62669\n",
       "SecureWeb              56456\n",
       "NetBIOS-IP             28969\n",
       "Unknown_TCP            28568\n",
       "WindowsFileSharing     17848\n",
       "POP                    16270\n",
       "IMAP                   13638\n",
       "Name: appName, dtype: int64"
      ]
     },
     "execution_count": 29,
     "metadata": {},
     "output_type": "execute_result"
    }
   ],
   "source": [
    "df_obj['appName'].value_counts()[:10]"
   ]
  },
  {
   "cell_type": "code",
   "execution_count": 30,
   "id": "3c86ba65-f2e5-42bb-99c0-3f89c64d5e35",
   "metadata": {},
   "outputs": [],
   "source": [
    "def app_encoder(x):\n",
    "    if x=='HTTPWeb':\n",
    "        return 10\n",
    "    elif x=='HTTPImageTransfer':\n",
    "        return 9\n",
    "    elif x=='DNS':\n",
    "        return 8\n",
    "    elif x=='Unknown_UDP':\n",
    "        return 7\n",
    "    elif x=='SecureWeb':\n",
    "        return 6\n",
    "    elif x=='NetBIOS-IP':\n",
    "        return 5\n",
    "    elif x=='Unknown_TCP':\n",
    "        return 4\n",
    "    elif x=='WindowsFileSharing':\n",
    "        return 3\n",
    "    elif x=='POP':\n",
    "        return 2\n",
    "    elif x=='IMAP':\n",
    "        return 1\n",
    "    else:\n",
    "        return 0"
   ]
  },
  {
   "cell_type": "code",
   "execution_count": 31,
   "id": "7a87b224-bdc9-468a-9ce4-1db0f6b51624",
   "metadata": {},
   "outputs": [],
   "source": [
    "df_obj['appName'] = df_obj['appName'].apply(app_encoder)"
   ]
  },
  {
   "cell_type": "code",
   "execution_count": 32,
   "id": "995cb6c2-5edb-44f1-a68d-6ef05fe5d56c",
   "metadata": {},
   "outputs": [
    {
     "data": {
      "text/plain": [
       "10    721502\n",
       "9     707631\n",
       "8     309359\n",
       "0      65143\n",
       "7      62669\n",
       "6      56456\n",
       "5      28969\n",
       "4      28568\n",
       "3      17848\n",
       "2      16270\n",
       "1      13638\n",
       "Name: appName, dtype: int64"
      ]
     },
     "execution_count": 32,
     "metadata": {},
     "output_type": "execute_result"
    }
   ],
   "source": [
    "df_obj['appName'].value_counts()"
   ]
  },
  {
   "cell_type": "code",
   "execution_count": 33,
   "id": "2ab784a8-5d22-41a4-a0e5-a94baa2c844f",
   "metadata": {},
   "outputs": [
    {
     "data": {
      "text/plain": [
       "198.164.30.2       228420\n",
       "192.168.5.122      197748\n",
       "203.73.24.75       187816\n",
       "125.6.164.51        99313\n",
       "67.220.214.50       47913\n",
       "202.210.143.140     33177\n",
       "95.211.98.12        25095\n",
       "82.98.86.183        24766\n",
       "209.112.44.10       21824\n",
       "62.140.213.243      20509\n",
       "Name: destination, dtype: int64"
      ]
     },
     "execution_count": 33,
     "metadata": {},
     "output_type": "execute_result"
    }
   ],
   "source": [
    "df['destination'].value_counts()[:10]"
   ]
  },
  {
   "cell_type": "code",
   "execution_count": 34,
   "id": "c25370d0-c56d-44d7-a441-3dec07a66895",
   "metadata": {},
   "outputs": [],
   "source": [
    "def destination_encoder(x):\n",
    "    if x=='198.164.30.2':\n",
    "        return 10\n",
    "    elif x=='192.168.5.122':\n",
    "        return 9\n",
    "    elif x=='203.73.24.75':\n",
    "        return 8\n",
    "    elif x=='125.6.164.51':\n",
    "        return 7\n",
    "    elif x=='67.220.214.50':\n",
    "        return 6\n",
    "    elif x=='202.210.143.140':\n",
    "        return 5\n",
    "    elif x=='95.211.98.12':\n",
    "        return 4\n",
    "    elif x=='82.98.86.183':\n",
    "        return 3\n",
    "    elif x=='209.112.44.10':\n",
    "        return 2\n",
    "    elif x=='62.140.213.243':\n",
    "        return 1\n",
    "    else:\n",
    "        return 0"
   ]
  },
  {
   "cell_type": "code",
   "execution_count": 35,
   "id": "cb22a817-0e76-4ce2-abc5-c52a4fed676c",
   "metadata": {},
   "outputs": [],
   "source": [
    "df_obj['destination'] = df_obj['destination'].apply(destination_encoder)"
   ]
  },
  {
   "cell_type": "code",
   "execution_count": 36,
   "id": "4e67959b-2b9c-468c-89ac-d90f961451da",
   "metadata": {},
   "outputs": [
    {
     "data": {
      "text/plain": [
       "KiBPSyBTdGlsbCBoZXJlDQoqIE9LIFN0aWxsIGhlcmUNCg==                                                                                                                                            10953\n",
       "K09LIERvdmVjb3QgcmVhZHkuDQorT0sgRG92ZWNvdCByZWFkeS4NCitPSw0KK09LDQorT0sgTG9nZ2VkIGluLg0KK09LIExvZ2dlZCBpbi4NCitPSyAwIDANCitPSyAwIDANCitPSyBMb2dnaW5nIG91dC4NCitPSyBMb2dnaW5nIG91dC4NCg==     6345\n",
       "NTU0LSAoUlRSOkJCKSAgaHR0cDovL3Bvc3RtYXN0ZXIuaW5mby5hb2wuY29tL2Vycm9ycy81NTRydHJiYi5odG1sDQ0KNTU0ICBDb25uZWN0aW5nIElQOiAxNDIuMTY2LjExNS4xNA0NCg==                                             6138\n",
       "K09LIERvdmVjb3QgcmVhZHkuDQorT0sgRG92ZWNvdCByZWFkeS4NCitPSw0KK09LDQorT0sgTG9nZ2VkIGluLg==                                                                                                     5592\n",
       "ggAAAAAAAFX/U01CcgAAAACYU8gAAAAAAAAAAAAAAAAAAP/+AAAAABEFAAMKAAEABBEAAAAAAQAAAAAA/eMAgA==                                                                                                     4705\n",
       "NTU0LSAoUlRSOkJCKSAgaHR0cDovL3Bvc3RtYXN0ZXIuaW5mby5hb2wuY29tL2Vycm9ycy81NTRydHJiYi5odA==                                                                                                     2465\n",
       "SFRUUC8xLjEgMzAxIE1vdmVkIFBlcm1hbmVudGx5DQpDb25uZWN0aW9uOiBjbG9zZQ0KQ29udGVudC1MZW5ndA==                                                                                                     1785\n",
       "KiBPSyBbQ0FQQUJJTElUWSBJTUFQNHJldjEgTElURVJBTCsgU0FTTC1JUiBMT0dJTi1SRUZFUlJBTFMgSUQgRQ==                                                                                                     1075\n",
       "SFRUUC8xLjEgMjAwIE9LDQpDb25uZWN0aW9uOiBjbG9zZQ0KRXhwaXJlczogMA0KRGF0ZTogU3VuLCAxMyBKdQ==                                                                                                     1050\n",
       "SFRUUC8xLjEgMjAwIE9LDQpDb25uZWN0aW9uOiBjbG9zZQ0KRXhwaXJlczogVGh1LCAxOSBOb3YgMTk4MSAwOA==                                                                                                      798\n",
       "Name: destinationPayloadAsBase64, dtype: int64"
      ]
     },
     "execution_count": 36,
     "metadata": {},
     "output_type": "execute_result"
    }
   ],
   "source": [
    "df_obj['destinationPayloadAsBase64'].value_counts()[:10]"
   ]
  },
  {
   "cell_type": "code",
   "execution_count": 37,
   "id": "3e21a5d8-7c21-48b1-991b-2541f1a010b7",
   "metadata": {},
   "outputs": [
    {
     "data": {
      "text/plain": [
       "* OK Still here* OK Still here                                                                                          10953\n",
       "+OK Dovecot ready.+OK Dovecot ready.+OK+OK+OK Logged in.+OK Logged in.+OK 0 0+OK 0 0+OK Logging out.+OK Logging out.     6345\n",
       "554- (RTR:BB)  http://postmaster.info.aol.com/errors/554rtrbb.html554  Connecting IP: 142.166.115.14                     6138\n",
       "+OK Dovecot ready.+OK Dovecot ready.+OK+OK+OK Logged in.                                                                 5592\n",
       ".U.SMBr.S.............                                                                                                   4705\n",
       "554- (RTR:BB)  http://postmaster.info.aol.com/errors/554rtrbb.ht                                                         2465\n",
       "HTTP/1.1 301 Moved PermanentlyConnection: closeContent-Lengt                                                             1785\n",
       "* OK [CAPABILITY IMAP4rev1 LITERAL+ SASL-IR LOGIN-REFERRALS ID E                                                         1075\n",
       "HTTP/1.1 200 OKConnection: closeExpires: 0Date: Sun, 13 Ju                                                               1050\n",
       "HTTP/1.1 200 OKConnection: closeExpires: Thu, 19 Nov 1981 08                                                              798\n",
       "Name: destinationPayloadAsUTF, dtype: int64"
      ]
     },
     "execution_count": 37,
     "metadata": {},
     "output_type": "execute_result"
    }
   ],
   "source": [
    "df_obj['destinationPayloadAsUTF'].value_counts()[:10]"
   ]
  },
  {
   "cell_type": "code",
   "execution_count": 40,
   "id": "a203b4d4-3c3a-4307-a812-b29681a5dc3f",
   "metadata": {},
   "outputs": [],
   "source": [
    "#df_obj.drop(['destinationPayloadAsUTF','destinationPayloadAsBase64'],axis=1,inplace=True)"
   ]
  },
  {
   "cell_type": "code",
   "execution_count": 41,
   "id": "2bd342cb-0369-441e-be95-bdbd664f59cd",
   "metadata": {},
   "outputs": [
    {
     "data": {
      "text/plain": [
       "Index(['appName', 'destination', 'destinationTCPFlagsDescription', 'direction',\n",
       "       'protocolName', 'source', 'sourceFile', 'sourcePayloadAsBase64',\n",
       "       'sourcePayloadAsUTF', 'sourceTCPFlagsDescription', 'startDateTime',\n",
       "       'stopDateTime'],\n",
       "      dtype='object')"
      ]
     },
     "execution_count": 41,
     "metadata": {},
     "output_type": "execute_result"
    }
   ],
   "source": [
    "df_obj.columns"
   ]
  },
  {
   "cell_type": "code",
   "execution_count": 43,
   "id": "3104d9df-6322-4cc0-9aed-8d1753399419",
   "metadata": {},
   "outputs": [
    {
     "data": {
      "text/plain": [
       "F,S,P,A      1114613\n",
       "F,S,R,P,A     118824\n",
       "S,P,A          95817\n",
       "F,A            69651\n",
       "R,A            30755\n",
       "P,A            26563\n",
       "R              20643\n",
       "F,P,A          14273\n",
       "F,S,A          13544\n",
       "S,A            10322\n",
       "Name: destinationTCPFlagsDescription, dtype: int64"
      ]
     },
     "execution_count": 43,
     "metadata": {},
     "output_type": "execute_result"
    }
   ],
   "source": [
    "df_obj['destinationTCPFlagsDescription'].value_counts()[:10]"
   ]
  },
  {
   "cell_type": "code",
   "execution_count": 44,
   "id": "2bacad66-d599-4303-93f2-042a6c1b41cc",
   "metadata": {},
   "outputs": [],
   "source": [
    "def TCPFD_enc(x):\n",
    "    if x=='F,S,P,A ':\n",
    "        return 10\n",
    "    elif x=='F,S,R,P,A':\n",
    "        return 9\n",
    "    elif x=='S,P,A ':\n",
    "        return 8\n",
    "    elif x=='F,A':\n",
    "        return 7\n",
    "    elif x=='R,A':\n",
    "        return 6\n",
    "    elif x=='P,A':\n",
    "        return 5\n",
    "    elif x=='R':\n",
    "        return 4\n",
    "    elif x=='F,P,A':\n",
    "        return 3\n",
    "    elif x=='F,S,A':\n",
    "        return 2\n",
    "    elif x=='S,A':\n",
    "        return 1\n",
    "    else:\n",
    "        return 0    "
   ]
  },
  {
   "cell_type": "code",
   "execution_count": 45,
   "id": "c13986f6-9dff-4e9c-8ed6-c77b6b5f1e05",
   "metadata": {},
   "outputs": [],
   "source": [
    "df_obj['destinationTCPFlagsDescription'] = df_obj['destinationTCPFlagsDescription'].apply(TCPFD_enc)"
   ]
  },
  {
   "cell_type": "code",
   "execution_count": 52,
   "id": "604f19e5-d878-470a-9ea3-aa1c8b98512a",
   "metadata": {},
   "outputs": [
    {
     "data": {
      "text/plain": [
       "0    1723478\n",
       "9     118824\n",
       "7      69651\n",
       "6      30755\n",
       "5      26563\n",
       "4      20643\n",
       "3      14273\n",
       "2      13544\n",
       "1      10322\n",
       "Name: destinationTCPFlagsDescription, dtype: int64"
      ]
     },
     "execution_count": 52,
     "metadata": {},
     "output_type": "execute_result"
    }
   ],
   "source": [
    "df_obj['destinationTCPFlagsDescription'].value_counts()"
   ]
  },
  {
   "cell_type": "code",
   "execution_count": 46,
   "id": "c8697348-cbc6-4882-a748-bbfcc23ab2ff",
   "metadata": {},
   "outputs": [
    {
     "data": {
      "text/plain": [
       "L2R    1745961\n",
       "L2L     262509\n",
       "R2L      18040\n",
       "R2R       1543\n",
       "Name: direction, dtype: int64"
      ]
     },
     "execution_count": 46,
     "metadata": {},
     "output_type": "execute_result"
    }
   ],
   "source": [
    "df['direction'].value_counts()"
   ]
  },
  {
   "cell_type": "code",
   "execution_count": 47,
   "id": "b51573ae-800c-46ea-b739-03c4604b0442",
   "metadata": {},
   "outputs": [],
   "source": [
    "def direction_enc(x):\n",
    "    if x=='L2R':\n",
    "        return 10\n",
    "    elif x=='L2L':\n",
    "        return 9\n",
    "    elif x=='R2L':\n",
    "        return 8\n",
    "    elif x=='R2R':\n",
    "        return 7"
   ]
  },
  {
   "cell_type": "code",
   "execution_count": 48,
   "id": "c30231de-bfa5-4ecc-b046-30ac49e9a571",
   "metadata": {},
   "outputs": [],
   "source": [
    "df_obj['direction'] = df_obj['direction'].apply(direction_enc)"
   ]
  },
  {
   "cell_type": "code",
   "execution_count": 51,
   "id": "887c1470-4f9f-4514-90c7-6a86c28ef858",
   "metadata": {},
   "outputs": [
    {
     "data": {
      "text/plain": [
       "10    1745961\n",
       "9      262509\n",
       "8       18040\n",
       "7        1543\n",
       "Name: direction, dtype: int64"
      ]
     },
     "execution_count": 51,
     "metadata": {},
     "output_type": "execute_result"
    }
   ],
   "source": [
    "df_obj['direction'].value_counts()"
   ]
  },
  {
   "cell_type": "code",
   "execution_count": 50,
   "id": "ff34e95e-573e-4688-a8fd-e08ef1635e20",
   "metadata": {},
   "outputs": [
    {
     "data": {
      "text/plain": [
       "TestbedSunJun13Flows.xml      275528\n",
       "TestbedWedJun16-3Flows.xml    196924\n",
       "TestbedTueJun15-3Flows.xml    196034\n",
       "TestbedTueJun15-1Flows.xml    192041\n",
       "TestbedTueJun15-2Flows.xml    183623\n",
       "TestbedWedJun16-1Flows.xml    182968\n",
       "TestbedMonJun14Flows.xml      171380\n",
       "TestbedThuJun17-2Flows.xml    149625\n",
       "TestbedThuJun17-1Flows.xml    142534\n",
       "TestbedWedJun16-2Flows.xml    142371\n",
       "Name: sourceFile, dtype: int64"
      ]
     },
     "execution_count": 50,
     "metadata": {},
     "output_type": "execute_result"
    }
   ],
   "source": [
    "df_obj['sourceFile'].value_counts()[:10]"
   ]
  },
  {
   "cell_type": "code",
   "execution_count": 55,
   "id": "4ceec647-6ea0-4831-a55a-0ff683f38c89",
   "metadata": {},
   "outputs": [],
   "source": [
    "def sourceFile_enc(x):\n",
    "    if x=='TestbedSunJun13Flows.xml':\n",
    "        return 10\n",
    "    elif x=='TestbedWedJun16-3Flows.xml':\n",
    "        return 9\n",
    "    elif x=='TestbedTueJun15-3Flows.xml':\n",
    "        return 8\n",
    "    elif x=='TestbedTueJun15-1Flows.xml':\n",
    "        return 7\n",
    "    elif x=='TestbedTueJun15-2Flows.xml':\n",
    "        return 6\n",
    "    elif x=='TestbedWedJun16-1Flows.xml':\n",
    "        return 5\n",
    "    elif x=='TestbedMonJun14Flows.xml':\n",
    "        return 4\n",
    "    elif x=='TestbedThuJun17-2Flows.xml':\n",
    "        return 3\n",
    "    elif x=='TestbedThuJun17-1Flows.xml':\n",
    "        return 2\n",
    "    elif x=='TestbedWedJun16-2Flows.xml':\n",
    "        return 1\n",
    "    else:\n",
    "        return 0\n"
   ]
  },
  {
   "cell_type": "code",
   "execution_count": 56,
   "id": "6299c6f9-07d7-4875-9916-8cc6b829e23e",
   "metadata": {},
   "outputs": [],
   "source": [
    "df_obj['sourceFile'] = df_obj['sourceFile'].apply(sourceFile_enc)"
   ]
  },
  {
   "cell_type": "code",
   "execution_count": 57,
   "id": "9064488d-2b5d-4d14-b3a4-cc81ad20dc7f",
   "metadata": {},
   "outputs": [
    {
     "data": {
      "text/plain": [
       "10    275528\n",
       "9     196924\n",
       "8     196034\n",
       "0     195025\n",
       "7     192041\n",
       "6     183623\n",
       "5     182968\n",
       "4     171380\n",
       "3     149625\n",
       "2     142534\n",
       "1     142371\n",
       "Name: sourceFile, dtype: int64"
      ]
     },
     "execution_count": 57,
     "metadata": {},
     "output_type": "execute_result"
    }
   ],
   "source": [
    "df_obj['sourceFile'].value_counts()"
   ]
  },
  {
   "cell_type": "code",
   "execution_count": 58,
   "id": "bdddfeef-73e0-445e-8b0a-e0e5c6fe4404",
   "metadata": {},
   "outputs": [
    {
     "data": {
      "text/plain": [
       "Index(['appName', 'destination', 'destinationTCPFlagsDescription', 'direction',\n",
       "       'protocolName', 'source', 'sourceFile', 'sourcePayloadAsBase64',\n",
       "       'sourcePayloadAsUTF', 'sourceTCPFlagsDescription', 'startDateTime',\n",
       "       'stopDateTime'],\n",
       "      dtype='object')"
      ]
     },
     "execution_count": 58,
     "metadata": {},
     "output_type": "execute_result"
    }
   ],
   "source": [
    "df_obj.columns"
   ]
  },
  {
   "cell_type": "code",
   "execution_count": 65,
   "id": "054e0968-7503-4403-b89c-01aa6d7cd329",
   "metadata": {},
   "outputs": [],
   "source": [
    "def str_len_calc(x):\n",
    "    if pd.isnull(x):\n",
    "        return x\n",
    "    else:\n",
    "        return len(x)"
   ]
  },
  {
   "cell_type": "code",
   "execution_count": 66,
   "id": "c3aee2c4-a08b-4bd1-a5a8-7c8e2bcd280d",
   "metadata": {},
   "outputs": [],
   "source": [
    "df_obj['sourcePayloadAsBase64_Len'] = df_obj['sourcePayloadAsBase64'].apply(str_len_calc)"
   ]
  },
  {
   "cell_type": "code",
   "execution_count": 68,
   "id": "ac87f032-c083-4ae1-893b-5fd373afa28b",
   "metadata": {},
   "outputs": [],
   "source": [
    "df_obj['sourcePayloadAsUTF_Len'] = df_obj['sourcePayloadAsUTF'].apply(str_len_calc)"
   ]
  },
  {
   "cell_type": "code",
   "execution_count": null,
   "id": "b9ae1910-f914-4ba3-8518-af7c36da6433",
   "metadata": {},
   "outputs": [],
   "source": [
    "#df_obj.drop(['destinationPayloadAsUTF','destinationPayloadAsBase64'],axis=1,inplace=True)"
   ]
  },
  {
   "cell_type": "code",
   "execution_count": 69,
   "id": "83051264-8d60-4bca-a47e-baa0cbdf0977",
   "metadata": {},
   "outputs": [],
   "source": [
    "df_obj['destinationPayloadAsUTF_Len'] = df['destinationPayloadAsBase64'].apply(str_len_calc)"
   ]
  },
  {
   "cell_type": "code",
   "execution_count": 70,
   "id": "5cee1afe-519d-4d5c-a747-17e177bfdbd3",
   "metadata": {},
   "outputs": [],
   "source": [
    "df_obj['destinationPayloadAsUTF_Len'] = df['destinationPayloadAsUTF'].apply(str_len_calc)"
   ]
  },
  {
   "cell_type": "code",
   "execution_count": 72,
   "id": "4d0d0203-b5c4-4ee3-a426-767d0ff6d7cb",
   "metadata": {},
   "outputs": [
    {
     "data": {
      "text/plain": [
       "F,S,P,A                  1133425\n",
       "S,P,A                     181592\n",
       "F,A                       130518\n",
       "S                          41567\n",
       "S,R,P,A                    27592\n",
       "F,P,A                      25294\n",
       "P,A                        16626\n",
       "A                          15185\n",
       "F,S,A                      10906\n",
       "F,S,R,P,A                   8938\n",
       "F,R,A                       4654\n",
       "S,A                         3389\n",
       "R,A                         1060\n",
       "R                            896\n",
       "S,R                          549\n",
       "F,R,P,A                      126\n",
       "R,P,A                        117\n",
       "S,R,A                         26\n",
       "S,R,Illegal7,Illegal8         18\n",
       "F,S,R,A                       14\n",
       "F,P,U                         12\n",
       "F,S,R,P,U                     10\n",
       "F,S,P,U                        2\n",
       "Name: sourceTCPFlagsDescription, dtype: int64"
      ]
     },
     "execution_count": 72,
     "metadata": {},
     "output_type": "execute_result"
    }
   ],
   "source": [
    "df['sourceTCPFlagsDescription'].value_counts()"
   ]
  },
  {
   "cell_type": "code",
   "execution_count": 74,
   "id": "53147daa-7015-4671-93df-74f37f0a7e0d",
   "metadata": {},
   "outputs": [],
   "source": [
    "def source_TCPFlag_encoder(x):\n",
    "    if x=='F,S,P,A':\n",
    "        return 10\n",
    "    elif x=='S,P,A ':\n",
    "        return 9\n",
    "    elif x=='F,A':\n",
    "        return 8\n",
    "    elif x=='S':\n",
    "        return 7\n",
    "    elif x=='S,R,P,A':\n",
    "        return 6\n",
    "    elif x=='F,P,A ':\n",
    "        return 5\n",
    "    elif x=='P,A':\n",
    "        return 4\n",
    "    elif x=='A':\n",
    "        return 3\n",
    "    elif x=='F,S,A':\n",
    "        return 2\n",
    "    elif x=='F,S,R,P,A ':\n",
    "        return 1\n",
    "    else:\n",
    "        return 0\n"
   ]
  },
  {
   "cell_type": "code",
   "execution_count": 75,
   "id": "35b3742a-215b-4a05-bcfa-72bb39231519",
   "metadata": {},
   "outputs": [],
   "source": [
    "df_obj['sourceTCPFlagsDescription'] = df_obj['sourceTCPFlagsDescription'].apply(source_TCPFlag_encoder)"
   ]
  },
  {
   "cell_type": "code",
   "execution_count": 77,
   "id": "bbde1de8-4edf-433b-a853-cfabf60c7cc8",
   "metadata": {},
   "outputs": [
    {
     "data": {
      "text/plain": [
       "10    1133425\n",
       "0      652234\n",
       "8      130518\n",
       "7       41567\n",
       "6       27592\n",
       "4       16626\n",
       "3       15185\n",
       "2       10906\n",
       "Name: sourceTCPFlagsDescription, dtype: int64"
      ]
     },
     "execution_count": 77,
     "metadata": {},
     "output_type": "execute_result"
    }
   ],
   "source": [
    "df_obj['sourceTCPFlagsDescription'].value_counts()"
   ]
  },
  {
   "cell_type": "code",
   "execution_count": 78,
   "id": "bfc11c38-87bf-4f59-b7cd-d9b2895aa9cc",
   "metadata": {},
   "outputs": [
    {
     "name": "stdout",
     "output_type": "stream",
     "text": [
      "<class 'pandas.core.frame.DataFrame'>\n",
      "Int64Index: 2028053 entries, 0 to 2028053\n",
      "Data columns (total 15 columns):\n",
      " #   Column                          Dtype  \n",
      "---  ------                          -----  \n",
      " 0   appName                         int64  \n",
      " 1   destination                     int64  \n",
      " 2   destinationTCPFlagsDescription  int64  \n",
      " 3   direction                       int64  \n",
      " 4   protocolName                    object \n",
      " 5   source                          object \n",
      " 6   sourceFile                      int64  \n",
      " 7   sourcePayloadAsBase64           object \n",
      " 8   sourcePayloadAsUTF              object \n",
      " 9   sourceTCPFlagsDescription       int64  \n",
      " 10  startDateTime                   object \n",
      " 11  stopDateTime                    object \n",
      " 12  sourcePayloadAsBase64_Len       float64\n",
      " 13  sourcePayloadAsUTF_Len          float64\n",
      " 14  destinationPayloadAsUTF_Len     float64\n",
      "dtypes: float64(3), int64(6), object(6)\n",
      "memory usage: 247.6+ MB\n"
     ]
    }
   ],
   "source": [
    "df_obj.info()"
   ]
  },
  {
   "cell_type": "code",
   "execution_count": 79,
   "id": "ad9e4d76-1c99-4d11-ba38-019628270ab8",
   "metadata": {},
   "outputs": [],
   "source": [
    "df_obj.drop(['startDateTime','stopDateTime'],axis=1,inplace=True)"
   ]
  },
  {
   "cell_type": "code",
   "execution_count": 80,
   "id": "2dcf0f1a-088f-4d79-8c2f-0d21a9760ec2",
   "metadata": {},
   "outputs": [
    {
     "data": {
      "text/plain": [
       "tcp_ip      1605779\n",
       "udp_ip       413985\n",
       "icmp_ip        8149\n",
       "igmp             75\n",
       "ip               64\n",
       "ipv6icmp          1\n",
       "Name: protocolName, dtype: int64"
      ]
     },
     "execution_count": 80,
     "metadata": {},
     "output_type": "execute_result"
    }
   ],
   "source": [
    "df['protocolName'].value_counts()"
   ]
  },
  {
   "cell_type": "code",
   "execution_count": 81,
   "id": "8b65c6c0-eb2a-4d7d-9462-4b5f972c5fa5",
   "metadata": {},
   "outputs": [],
   "source": [
    "def protocol_Name_enc(x):\n",
    "    if x=='tcp_ip':\n",
    "        return 3\n",
    "    elif x=='udp_ip':\n",
    "        return 2\n",
    "    elif x=='icmp_ip':\n",
    "        return 1\n",
    "    else:\n",
    "        return 0"
   ]
  },
  {
   "cell_type": "code",
   "execution_count": 82,
   "id": "e2af3747-f724-4c90-ad7d-4749307748b0",
   "metadata": {},
   "outputs": [],
   "source": [
    "df_obj['protocolName'] = df_obj['protocolName'].apply(protocol_Name_enc)"
   ]
  },
  {
   "cell_type": "code",
   "execution_count": 83,
   "id": "eb7ea57e-39ec-4ae8-aad4-300f2059ee6c",
   "metadata": {},
   "outputs": [
    {
     "data": {
      "text/plain": [
       "3    1605779\n",
       "2     413985\n",
       "1       8149\n",
       "0        140\n",
       "Name: protocolName, dtype: int64"
      ]
     },
     "execution_count": 83,
     "metadata": {},
     "output_type": "execute_result"
    }
   ],
   "source": [
    "df_obj['protocolName'].value_counts()"
   ]
  },
  {
   "cell_type": "code",
   "execution_count": 85,
   "id": "aa05d70a-5ea1-4994-88f3-4864005476b5",
   "metadata": {},
   "outputs": [
    {
     "data": {
      "text/plain": [
       "192.168.5.122    263828\n",
       "192.168.2.107    204440\n",
       "192.168.4.118    131402\n",
       "192.168.1.101    115587\n",
       "192.168.4.121    104555\n",
       "192.168.1.105    100034\n",
       "192.168.2.109     98504\n",
       "192.168.2.110     89709\n",
       "192.168.3.116     89274\n",
       "192.168.3.115     88424\n",
       "Name: source, dtype: int64"
      ]
     },
     "execution_count": 85,
     "metadata": {},
     "output_type": "execute_result"
    }
   ],
   "source": [
    "df_obj['source'].value_counts()[:10]"
   ]
  },
  {
   "cell_type": "code",
   "execution_count": 87,
   "id": "6a60ec36-dc87-49c8-bd01-8b63358351ee",
   "metadata": {},
   "outputs": [],
   "source": [
    "x1 = df_obj['source'][0]"
   ]
  },
  {
   "cell_type": "code",
   "execution_count": 94,
   "id": "a3a3474d-96c9-4afd-9c59-1658b3f60716",
   "metadata": {},
   "outputs": [
    {
     "data": {
      "text/plain": [
       "['192', '168', '5', '122']"
      ]
     },
     "execution_count": 94,
     "metadata": {},
     "output_type": "execute_result"
    }
   ],
   "source": [
    "x1.split('.')"
   ]
  },
  {
   "cell_type": "code",
   "execution_count": null,
   "id": "940827c3-4876-44ce-8d5e-bdd74a064815",
   "metadata": {},
   "outputs": [],
   "source": []
  },
  {
   "cell_type": "code",
   "execution_count": 93,
   "id": "3ddcc0a5-4640-4f49-a5e1-2ef03c0e7abf",
   "metadata": {},
   "outputs": [],
   "source": [
    "df_obj['source-1'] = df_obj['source'].apply(lambda x: x.split('.')[0])"
   ]
  },
  {
   "cell_type": "code",
   "execution_count": 95,
   "id": "800a70c7-dbba-4868-9572-0087246d3b8f",
   "metadata": {},
   "outputs": [],
   "source": [
    "df_obj['source-2'] = df_obj['source'].apply(lambda x: x.split('.')[1])\n",
    "df_obj['source-3'] = df_obj['source'].apply(lambda x: x.split('.')[2])\n",
    "df_obj['source-4'] = df_obj['source'].apply(lambda x: x.split('.')[3])"
   ]
  },
  {
   "cell_type": "code",
   "execution_count": 96,
   "id": "1c045701-470a-42dd-9087-7b1e622420de",
   "metadata": {},
   "outputs": [
    {
     "name": "stdout",
     "output_type": "stream",
     "text": [
      "<class 'pandas.core.frame.DataFrame'>\n",
      "Int64Index: 2028053 entries, 0 to 2028053\n",
      "Data columns (total 17 columns):\n",
      " #   Column                          Dtype  \n",
      "---  ------                          -----  \n",
      " 0   appName                         int64  \n",
      " 1   destination                     int64  \n",
      " 2   destinationTCPFlagsDescription  int64  \n",
      " 3   direction                       int64  \n",
      " 4   protocolName                    int64  \n",
      " 5   source                          object \n",
      " 6   sourceFile                      int64  \n",
      " 7   sourcePayloadAsBase64           object \n",
      " 8   sourcePayloadAsUTF              object \n",
      " 9   sourceTCPFlagsDescription       int64  \n",
      " 10  sourcePayloadAsBase64_Len       float64\n",
      " 11  sourcePayloadAsUTF_Len          float64\n",
      " 12  destinationPayloadAsUTF_Len     float64\n",
      " 13  source-1                        object \n",
      " 14  source-2                        object \n",
      " 15  source-3                        object \n",
      " 16  source-4                        object \n",
      "dtypes: float64(3), int64(7), object(7)\n",
      "memory usage: 278.5+ MB\n"
     ]
    }
   ],
   "source": [
    "df_obj.info()"
   ]
  },
  {
   "cell_type": "code",
   "execution_count": 98,
   "id": "bc8576a3-7ff4-4bd7-9a65-137d17080ee8",
   "metadata": {},
   "outputs": [],
   "source": [
    "df_obj.drop('source',axis=1,inplace=True)"
   ]
  },
  {
   "cell_type": "code",
   "execution_count": 100,
   "id": "f14ba56f-79c5-4d2e-bb2b-d8615f051565",
   "metadata": {},
   "outputs": [],
   "source": [
    "df_obj['source-1'] = df_obj['source-1'].astype(np.int64)\n",
    "df_obj['source-2'] = df_obj['source-2'].astype(np.int64)\n",
    "df_obj['source-3'] = df_obj['source-3'].astype(np.int64)\n",
    "df_obj['source-4'] = df_obj['source-4'].astype(np.int64)"
   ]
  },
  {
   "cell_type": "code",
   "execution_count": 102,
   "id": "a8717285-0b75-4737-8248-d4d502b098b0",
   "metadata": {},
   "outputs": [],
   "source": [
    "df_obj.drop(['sourcePayloadAsBase64','sourcePayloadAsUTF'],axis=1,inplace=True)"
   ]
  },
  {
   "cell_type": "code",
   "execution_count": 103,
   "id": "84e4a0b6-7b1d-4baa-b82e-0f20ca0a2dc7",
   "metadata": {},
   "outputs": [
    {
     "name": "stdout",
     "output_type": "stream",
     "text": [
      "<class 'pandas.core.frame.DataFrame'>\n",
      "Int64Index: 2028053 entries, 0 to 2028053\n",
      "Data columns (total 14 columns):\n",
      " #   Column                          Dtype  \n",
      "---  ------                          -----  \n",
      " 0   appName                         int64  \n",
      " 1   destination                     int64  \n",
      " 2   destinationTCPFlagsDescription  int64  \n",
      " 3   direction                       int64  \n",
      " 4   protocolName                    int64  \n",
      " 5   sourceFile                      int64  \n",
      " 6   sourceTCPFlagsDescription       int64  \n",
      " 7   sourcePayloadAsBase64_Len       float64\n",
      " 8   sourcePayloadAsUTF_Len          float64\n",
      " 9   destinationPayloadAsUTF_Len     float64\n",
      " 10  source-1                        int64  \n",
      " 11  source-2                        int64  \n",
      " 12  source-3                        int64  \n",
      " 13  source-4                        int64  \n",
      "dtypes: float64(3), int64(11)\n",
      "memory usage: 232.1 MB\n"
     ]
    }
   ],
   "source": [
    "df_obj.info()"
   ]
  },
  {
   "cell_type": "markdown",
   "id": "6ac6b8d5-8b10-47c5-87cb-5e6b2da238f4",
   "metadata": {},
   "source": [
    "### fEATURE ENCODING ENDS"
   ]
  },
  {
   "cell_type": "code",
   "execution_count": 105,
   "id": "d28f751f-2b73-4c29-b369-c1aed255a6d7",
   "metadata": {},
   "outputs": [
    {
     "data": {
      "text/plain": [
       "appName                            0.000000\n",
       "destination                        0.000000\n",
       "destinationTCPFlagsDescription     0.000000\n",
       "direction                          0.000000\n",
       "protocolName                       0.000000\n",
       "sourceFile                         0.000000\n",
       "sourceTCPFlagsDescription          0.000000\n",
       "sourcePayloadAsBase64_Len         52.967649\n",
       "sourcePayloadAsUTF_Len            57.149197\n",
       "destinationPayloadAsUTF_Len       57.416991\n",
       "source-1                           0.000000\n",
       "source-2                           0.000000\n",
       "source-3                           0.000000\n",
       "source-4                           0.000000\n",
       "dtype: float64"
      ]
     },
     "execution_count": 105,
     "metadata": {},
     "output_type": "execute_result"
    }
   ],
   "source": [
    "100 * df_obj.isna().sum()/len(df_obj)"
   ]
  },
  {
   "cell_type": "code",
   "execution_count": null,
   "id": "447c5d56-88a6-4314-a509-5c7b62a586c8",
   "metadata": {},
   "outputs": [],
   "source": []
  },
  {
   "cell_type": "markdown",
   "id": "e4f2a9b1-cc81-49fc-8bd4-ea643faa1fce",
   "metadata": {},
   "source": [
    "#### Let's use chi square test for this"
   ]
  },
  {
   "cell_type": "code",
   "execution_count": 19,
   "id": "ff21aea2-e921-42d0-b6da-d3a8a1b764ab",
   "metadata": {},
   "outputs": [],
   "source": [
    "from sklearn.feature_selection import SelectKBest,chi2"
   ]
  },
  {
   "cell_type": "code",
   "execution_count": 20,
   "id": "a4dfd9f3-2b79-4f60-bb56-d7870040277a",
   "metadata": {},
   "outputs": [],
   "source": [
    "bestfeatures = SelectKBest(score_func=chi2,k=5)\n",
    "fit = bestfeatures.fit(df.select_dtypes(exclude='object').iloc[:1602516,:],df['sourceTCPFlagsDescription'].dropna())"
   ]
  },
  {
   "cell_type": "code",
   "execution_count": 21,
   "id": "7f21367b-ea0f-42c8-900c-402ac454ec7d",
   "metadata": {},
   "outputs": [],
   "source": [
    "df_scores_1 = pd.DataFrame(fit.scores_)\n",
    "df_columns_1 = pd.DataFrame(df.select_dtypes(exclude='object').iloc[:1602516,:].columns)"
   ]
  },
  {
   "cell_type": "code",
   "execution_count": 22,
   "id": "b01d04bf-0991-46b2-80ff-ffa43a74d90b",
   "metadata": {},
   "outputs": [],
   "source": [
    "featureScores_1 = pd.concat([df_columns_1,df_scores_1],axis=1)\n",
    "featureScores_1.columns = [\"Specs\",\"Scores\"]"
   ]
  },
  {
   "cell_type": "code",
   "execution_count": 23,
   "id": "e6e7bb30-1cec-405a-9533-cc2d18def718",
   "metadata": {},
   "outputs": [
    {
     "data": {
      "text/html": [
       "<div>\n",
       "<style scoped>\n",
       "    .dataframe tbody tr th:only-of-type {\n",
       "        vertical-align: middle;\n",
       "    }\n",
       "\n",
       "    .dataframe tbody tr th {\n",
       "        vertical-align: top;\n",
       "    }\n",
       "\n",
       "    .dataframe thead th {\n",
       "        text-align: right;\n",
       "    }\n",
       "</style>\n",
       "<table border=\"1\" class=\"dataframe\">\n",
       "  <thead>\n",
       "    <tr style=\"text-align: right;\">\n",
       "      <th></th>\n",
       "      <th>Specs</th>\n",
       "      <th>Scores</th>\n",
       "    </tr>\n",
       "  </thead>\n",
       "  <tbody>\n",
       "    <tr>\n",
       "      <th>5</th>\n",
       "      <td>totalSourceBytes</td>\n",
       "      <td>8.755824e+08</td>\n",
       "    </tr>\n",
       "    <tr>\n",
       "      <th>1</th>\n",
       "      <td>destinationPort</td>\n",
       "      <td>1.948940e+08</td>\n",
       "    </tr>\n",
       "    <tr>\n",
       "      <th>3</th>\n",
       "      <td>totalDestinationBytes</td>\n",
       "      <td>1.052411e+08</td>\n",
       "    </tr>\n",
       "    <tr>\n",
       "      <th>2</th>\n",
       "      <td>sourcePort</td>\n",
       "      <td>4.727091e+07</td>\n",
       "    </tr>\n",
       "    <tr>\n",
       "      <th>4</th>\n",
       "      <td>totalDestinationPackets</td>\n",
       "      <td>1.452930e+05</td>\n",
       "    </tr>\n",
       "    <tr>\n",
       "      <th>6</th>\n",
       "      <td>totalSourcePackets</td>\n",
       "      <td>1.029839e+05</td>\n",
       "    </tr>\n",
       "    <tr>\n",
       "      <th>0</th>\n",
       "      <td>Tag</td>\n",
       "      <td>1.528972e+03</td>\n",
       "    </tr>\n",
       "  </tbody>\n",
       "</table>\n",
       "</div>"
      ],
      "text/plain": [
       "                     Specs        Scores\n",
       "5         totalSourceBytes  8.755824e+08\n",
       "1          destinationPort  1.948940e+08\n",
       "3    totalDestinationBytes  1.052411e+08\n",
       "2               sourcePort  4.727091e+07\n",
       "4  totalDestinationPackets  1.452930e+05\n",
       "6       totalSourcePackets  1.029839e+05\n",
       "0                      Tag  1.528972e+03"
      ]
     },
     "execution_count": 23,
     "metadata": {},
     "output_type": "execute_result"
    }
   ],
   "source": [
    "featureScores_1.sort_values(by='Scores',ascending=False)"
   ]
  }
 ],
 "metadata": {
  "kernelspec": {
   "display_name": "Python 3",
   "language": "python",
   "name": "python3"
  },
  "language_info": {
   "codemirror_mode": {
    "name": "ipython",
    "version": 3
   },
   "file_extension": ".py",
   "mimetype": "text/x-python",
   "name": "python",
   "nbconvert_exporter": "python",
   "pygments_lexer": "ipython3",
   "version": "3.8.8"
  }
 },
 "nbformat": 4,
 "nbformat_minor": 5
}
